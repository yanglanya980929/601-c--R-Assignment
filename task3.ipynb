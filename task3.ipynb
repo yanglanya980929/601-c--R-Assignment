{
 "cells": [
  {
   "cell_type": "markdown",
   "id": "e227cf49-51ce-4393-a22e-a61ba9330f85",
   "metadata": {},
   "source": [
    "|               | Replicable | Reproducable | Repeatable | Rerunable | Reusable |\n",
    "|---------------|------------|--------------|------------|-----------|----------|\n",
    "| Pseudo Code   |            |              |            |           |    1     |\n",
    "| Python        |      1     |      2       |     2      |      2    |    1     |\n",
    "| C++           |      1     |      2       |     3      |      2    |    2     |\n",
    "| R package     |      1     |      2       |     1      |      2    |    2     |\n"
   ]
  },
  {
   "cell_type": "markdown",
   "id": "571aee17-e059-421a-a780-a78ef0cff63b",
   "metadata": {},
   "source": [
    "## Replicable"
   ]
  },
  {
   "cell_type": "markdown",
   "id": "f8c04769-53dd-4cfc-9633-a333fb96378c",
   "metadata": {},
   "source": [
    "For the Python code, I have written some test code for each function and assert the ouput should be the same as my expectation. For c++ and R package, I input different preference tables and check whether the output is correct. All of them passed the tests."
   ]
  },
  {
   "cell_type": "markdown",
   "id": "5931e061-591f-4148-acff-2241bb1ee0e3",
   "metadata": {},
   "source": [
    "## Reproducible"
   ]
  },
  {
   "cell_type": "markdown",
   "id": "e35200bf-00f3-4d6d-bcdc-1f3efc02e401",
   "metadata": {},
   "source": [
    "The version of Python, C++ and R under which I get the results is not specified. Particularly, I have functions \"random.sample\" and \"np.random.seed\", which may change their behavior accros different versions of Python, in the Python assignment."
   ]
  },
  {
   "cell_type": "markdown",
   "id": "675d9c6d-0c80-4d5d-b396-ccb22b7e7035",
   "metadata": {},
   "source": [
    "## Repeatable "
   ]
  },
  {
   "cell_type": "markdown",
   "id": "adf9652a-94bc-4620-ab53-a8e626981833",
   "metadata": {},
   "source": [
    "### Python"
   ]
  },
  {
   "cell_type": "markdown",
   "id": "145beee3-dbce-4904-b50e-2c8f39fb57e5",
   "metadata": {},
   "source": [
    "For task 1, 2 and 3, I get the same expected outputs when I rerun the code. For task 6, I get similar plots after I change the random seed. However, I did not check the repeatability in my assignment before I submitted it. "
   ]
  },
  {
   "cell_type": "markdown",
   "id": "9c2ecda7-f2c7-4783-8812-99b9050cf30c",
   "metadata": {},
   "source": [
    "### C++"
   ]
  },
  {
   "cell_type": "markdown",
   "id": "4ceeaec0-276d-460e-b7c7-6c7baafadbba",
   "metadata": {},
   "source": [
    "For task 1, 2 and 3, my program does not allow for any input parameters. I just use one pairs to preference tables to check whether the result meets my expectation. "
   ]
  },
  {
   "cell_type": "markdown",
   "id": "92eadf0b-c638-49c6-9a0a-ad6dde97395f",
   "metadata": {},
   "source": [
    "### R package"
   ]
  },
  {
   "cell_type": "markdown",
   "id": "4366b6df-ec10-44e0-8799-bf164a9345a7",
   "metadata": {},
   "source": [
    "I installed the library in R and use several several different pairs of preference table to test the function \"rcpp_stable_marriage\". When I rerun it, I always get the same expected results. "
   ]
  },
  {
   "cell_type": "markdown",
   "id": "d017c681-3801-41cd-a96c-8911c7bc8db4",
   "metadata": {},
   "source": [
    "## Rerunable"
   ]
  },
  {
   "cell_type": "markdown",
   "id": "4a0d7490-ce46-4f60-84c7-edac3e1cbaff",
   "metadata": {},
   "source": [
    "### Python"
   ]
  },
  {
   "cell_type": "markdown",
   "id": "df47f0e6-e1dd-465c-b22e-10c16627456e",
   "metadata": {},
   "source": [
    "For the python assignmen, I check the version of python and get the following result. "
   ]
  },
  {
   "cell_type": "markdown",
   "id": "ed201c80-a6fe-4e00-8b22-01b355c59a59",
   "metadata": {},
   "source": [
    "3.9.7 (default, Sep 16 2021, 16:59:28) [MSC v.1916 64 bit (AMD64)]"
   ]
  },
  {
   "cell_type": "markdown",
   "id": "e1191493-b718-4513-847c-ea3c6a8bd18c",
   "metadata": {},
   "source": [
    "The newest version if python is 3.12, which means some function in my assignment may not be valid after I update the python. The crucial step is to doument the usage of each function so it would be easier to replace them with the corresponding new ones when the code is not working in another version of Python. However, I did not write many comments for my code. "
   ]
  },
  {
   "cell_type": "markdown",
   "id": "41da7552-ef43-42d0-bf1b-a409092431e1",
   "metadata": {},
   "source": [
    "### C++"
   ]
  },
  {
   "cell_type": "markdown",
   "id": "4d821fd7-8da0-4049-9012-675991a69a0a",
   "metadata": {},
   "source": [
    "I checked the compiler using \"version g++ --version\" and get the following result."
   ]
  },
  {
   "cell_type": "markdown",
   "id": "d56166a2-ce83-4867-b9ee-9010fd65fe6a",
   "metadata": {},
   "source": [
    "<pre>g++ (Ubuntu 11.4.0-1ubuntu1~22.04) 11.4.0\n",
    "Copyright (C) 2021 Free Software Foundation, Inc.\n",
    "This is free software; see the source for copying conditions.  There is NO\n",
    "warranty; not even for MERCHANTABILITY or FITNESS FOR A PARTICULAR PURPOSE.</pre>"
   ]
  },
  {
   "cell_type": "markdown",
   "id": "95ec4dc0-98f5-4a30-b0d0-e0c4d35e85be",
   "metadata": {},
   "source": [
    "Again, I did not write many comments on my code."
   ]
  },
  {
   "cell_type": "markdown",
   "id": "a93e5f7e-39c6-456e-93ac-0c7ad1012380",
   "metadata": {},
   "source": [
    "### R package"
   ]
  },
  {
   "cell_type": "markdown",
   "id": "2767bfff-5b3c-4494-8caf-f64258f93917",
   "metadata": {},
   "source": [
    "The version of R that I used is given by "
   ]
  },
  {
   "cell_type": "markdown",
   "id": "e7bd486a-e3ac-4516-9434-e0f751196118",
   "metadata": {},
   "source": [
    "'R version 4.1.2 (2021-11-01)'"
   ]
  },
  {
   "cell_type": "markdown",
   "id": "d2fd04f3-5cb4-45bf-809f-6aa89275ebb7",
   "metadata": {},
   "source": [
    "Also, considering the version of c++ may update, my code may not be very rerunnable."
   ]
  },
  {
   "cell_type": "markdown",
   "id": "9aa16e5a-7c26-4df9-b138-f277b21a9013",
   "metadata": {},
   "source": [
    "## Reusable"
   ]
  },
  {
   "cell_type": "markdown",
   "id": "54ab2247-b7ae-4570-86ae-27b2b628810a",
   "metadata": {},
   "source": [
    "My Python code is reusable because I wrote some Pseudo code and comments. However, I did not write many comments and pseudo codes for my c++ and R code."
   ]
  }
 ],
 "metadata": {
  "kernelspec": {
   "display_name": "Python 3 (ipykernel)",
   "language": "python",
   "name": "python3"
  },
  "language_info": {
   "codemirror_mode": {
    "name": "ipython",
    "version": 3
   },
   "file_extension": ".py",
   "mimetype": "text/x-python",
   "name": "python",
   "nbconvert_exporter": "python",
   "pygments_lexer": "ipython3",
   "version": "3.9.10"
  }
 },
 "nbformat": 4,
 "nbformat_minor": 5
}
