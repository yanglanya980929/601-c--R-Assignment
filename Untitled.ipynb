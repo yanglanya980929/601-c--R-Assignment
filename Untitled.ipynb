{
 "cells": [
  {
   "cell_type": "markdown",
   "id": "43430f02-73c4-4305-978d-3a08f35ae5ec",
   "metadata": {},
   "source": [
    "# STOR-601 - Interfacing R and C++ - Assessment"
   ]
  },
  {
   "cell_type": "markdown",
   "id": "867fa827-4ddb-4303-a86b-63e92ce08f9a",
   "metadata": {},
   "source": [
    "## Task 1"
   ]
  },
  {
   "cell_type": "code",
   "execution_count": 3,
   "id": "dd99d555-6b9c-4b3b-9fc8-cfda261b509a",
   "metadata": {},
   "outputs": [],
   "source": [
    "library(Rcpp)"
   ]
  },
  {
   "cell_type": "code",
   "execution_count": 4,
   "id": "0a6bbe54-3cc0-4b68-9f8b-ca0af767db55",
   "metadata": {},
   "outputs": [
    {
     "name": "stderr",
     "output_type": "stream",
     "text": [
      "Loading required package: usethis\n",
      "\n"
     ]
    }
   ],
   "source": [
    "library(devtools)"
   ]
  },
  {
   "cell_type": "code",
   "execution_count": 5,
   "id": "c533baa3-ec44-467f-ba84-2b4ba161729b",
   "metadata": {},
   "outputs": [
    {
     "name": "stderr",
     "output_type": "stream",
     "text": [
      "Removing package from ‘/home/yangl35/STOR-601-env/R-packages’\n",
      "(as ‘lib’ is unspecified)\n",
      "\n"
     ]
    }
   ],
   "source": [
    "remove.packages(\"stablemarriage2\")"
   ]
  },
  {
   "cell_type": "code",
   "execution_count": 5,
   "id": "620d77e2-58f1-45a4-ab8e-2a6dd65761ca",
   "metadata": {},
   "outputs": [
    {
     "name": "stderr",
     "output_type": "stream",
     "text": [
      "Warning message in normalizePath(path):\n",
      "“path[1]=\"stablemarriage2\": No such file or directory”\n"
     ]
    },
    {
     "name": "stdout",
     "output_type": "stream",
     "text": [
      "Error : Could not copy `stablemarriage2` to `/tmp/RtmpfWKqYr/file15debc177e0b67`\n"
     ]
    }
   ],
   "source": [
    "install_local(\"stablemarriage2\", force=TRUE)"
   ]
  },
  {
   "cell_type": "code",
   "execution_count": 6,
   "id": "1887b313-e8f9-4ef6-826d-f4870c6cef89",
   "metadata": {},
   "outputs": [],
   "source": [
    "library(stablemarriage2)"
   ]
  },
  {
   "cell_type": "code",
   "execution_count": 9,
   "id": "c044a37f-93c5-4bd7-9735-91c519c1acba",
   "metadata": {},
   "outputs": [
    {
     "name": "stdout",
     "output_type": "stream",
     "text": [
      "  c   b   d   a \n",
      "\"D\" \"C\" \"A\" \"B\" \n"
     ]
    }
   ],
   "source": [
    "a = rcpp_stable_marriage(\"table1.txt\", \"table2.txt\")\n",
    "print(a)"
   ]
  },
  {
   "cell_type": "code",
   "execution_count": 8,
   "id": "2730c498-9a55-4819-95aa-4dca7e2eecd4",
   "metadata": {},
   "outputs": [
    {
     "name": "stdout",
     "output_type": "stream",
     "text": [
      "  e   c   b   d   a \n",
      "\"E\" \"C\" \"B\" \"D\" \"A\" \n"
     ]
    }
   ],
   "source": [
    "b = rcpp_stable_marriage(\"table3.txt\", \"table4.txt\")\n",
    "print(b)"
   ]
  },
  {
   "cell_type": "code",
   "execution_count": 1,
   "id": "f8208287-7c88-444f-814f-bf2d6b35b590",
   "metadata": {},
   "outputs": [
    {
     "data": {
      "text/html": [
       "<dl>\n",
       "\t<dt>$platform</dt>\n",
       "\t\t<dd>'x86_64-pc-linux-gnu'</dd>\n",
       "\t<dt>$arch</dt>\n",
       "\t\t<dd>'x86_64'</dd>\n",
       "\t<dt>$os</dt>\n",
       "\t\t<dd>'linux-gnu'</dd>\n",
       "\t<dt>$system</dt>\n",
       "\t\t<dd>'x86_64, linux-gnu'</dd>\n",
       "\t<dt>$status</dt>\n",
       "\t\t<dd>''</dd>\n",
       "\t<dt>$major</dt>\n",
       "\t\t<dd>'4'</dd>\n",
       "\t<dt>$minor</dt>\n",
       "\t\t<dd>'1.2'</dd>\n",
       "\t<dt>$year</dt>\n",
       "\t\t<dd>'2021'</dd>\n",
       "\t<dt>$month</dt>\n",
       "\t\t<dd>'11'</dd>\n",
       "\t<dt>$day</dt>\n",
       "\t\t<dd>'01'</dd>\n",
       "\t<dt>$`svn rev`</dt>\n",
       "\t\t<dd>'81115'</dd>\n",
       "\t<dt>$language</dt>\n",
       "\t\t<dd>'R'</dd>\n",
       "\t<dt>$version.string</dt>\n",
       "\t\t<dd>'R version 4.1.2 (2021-11-01)'</dd>\n",
       "\t<dt>$nickname</dt>\n",
       "\t\t<dd>'Bird Hippie'</dd>\n",
       "</dl>\n"
      ],
      "text/latex": [
       "\\begin{description}\n",
       "\\item[\\$platform] 'x86\\_64-pc-linux-gnu'\n",
       "\\item[\\$arch] 'x86\\_64'\n",
       "\\item[\\$os] 'linux-gnu'\n",
       "\\item[\\$system] 'x86\\_64, linux-gnu'\n",
       "\\item[\\$status] ''\n",
       "\\item[\\$major] '4'\n",
       "\\item[\\$minor] '1.2'\n",
       "\\item[\\$year] '2021'\n",
       "\\item[\\$month] '11'\n",
       "\\item[\\$day] '01'\n",
       "\\item[\\$`svn rev`] '81115'\n",
       "\\item[\\$language] 'R'\n",
       "\\item[\\$version.string] 'R version 4.1.2 (2021-11-01)'\n",
       "\\item[\\$nickname] 'Bird Hippie'\n",
       "\\end{description}\n"
      ],
      "text/markdown": [
       "$platform\n",
       ":   'x86_64-pc-linux-gnu'\n",
       "$arch\n",
       ":   'x86_64'\n",
       "$os\n",
       ":   'linux-gnu'\n",
       "$system\n",
       ":   'x86_64, linux-gnu'\n",
       "$status\n",
       ":   ''\n",
       "$major\n",
       ":   '4'\n",
       "$minor\n",
       ":   '1.2'\n",
       "$year\n",
       ":   '2021'\n",
       "$month\n",
       ":   '11'\n",
       "$day\n",
       ":   '01'\n",
       "$`svn rev`\n",
       ":   '81115'\n",
       "$language\n",
       ":   'R'\n",
       "$version.string\n",
       ":   'R version 4.1.2 (2021-11-01)'\n",
       "$nickname\n",
       ":   'Bird Hippie'\n",
       "\n",
       "\n"
      ],
      "text/plain": [
       "$platform\n",
       "[1] \"x86_64-pc-linux-gnu\"\n",
       "\n",
       "$arch\n",
       "[1] \"x86_64\"\n",
       "\n",
       "$os\n",
       "[1] \"linux-gnu\"\n",
       "\n",
       "$system\n",
       "[1] \"x86_64, linux-gnu\"\n",
       "\n",
       "$status\n",
       "[1] \"\"\n",
       "\n",
       "$major\n",
       "[1] \"4\"\n",
       "\n",
       "$minor\n",
       "[1] \"1.2\"\n",
       "\n",
       "$year\n",
       "[1] \"2021\"\n",
       "\n",
       "$month\n",
       "[1] \"11\"\n",
       "\n",
       "$day\n",
       "[1] \"01\"\n",
       "\n",
       "$`svn rev`\n",
       "[1] \"81115\"\n",
       "\n",
       "$language\n",
       "[1] \"R\"\n",
       "\n",
       "$version.string\n",
       "[1] \"R version 4.1.2 (2021-11-01)\"\n",
       "\n",
       "$nickname\n",
       "[1] \"Bird Hippie\"\n"
      ]
     },
     "metadata": {},
     "output_type": "display_data"
    }
   ],
   "source": [
    "R.Version()"
   ]
  }
 ],
 "metadata": {
  "kernelspec": {
   "display_name": "R",
   "language": "R",
   "name": "ir"
  },
  "language_info": {
   "codemirror_mode": "r",
   "file_extension": ".r",
   "mimetype": "text/x-r-source",
   "name": "R",
   "pygments_lexer": "r",
   "version": "4.1.2"
  }
 },
 "nbformat": 4,
 "nbformat_minor": 5
}
